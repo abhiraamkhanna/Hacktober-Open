{
 "cells": [
  {
   "cell_type": "code",
   "execution_count": 1,
   "metadata": {
    "id": "6qTFqp7Fg2ah"
   },
   "outputs": [],
   "source": [
    "import numpy as np\n",
    "import pandas as pd\n",
    "import matplotlib.pyplot as plt\n",
    "from sklearn.model_selection import train_test_split\n",
    "from sklearn.metrics import classification_report, precision_recall_curve\n",
    "import re\n",
    "import nltk\n",
    "from nltk.corpus import stopwords\n",
    "from nltk.stem import WordNetLemmatizer \n",
    "lemma = WordNetLemmatizer()\n",
    "from keras.preprocessing.text import Tokenizer\n",
    "from keras.preprocessing.sequence import pad_sequences\n",
    "from keras.models import Sequential\n",
    "from keras.layers import Dense, Bidirectional, LSTM, Dropout, BatchNormalization\n",
    "from keras.layers.embeddings import Embedding"
   ]
  },
  {
   "cell_type": "code",
   "execution_count": null,
   "metadata": {
    "colab": {
     "base_uri": "https://localhost:8080/",
     "height": 67
    },
    "id": "cBT-I6dZltSv",
    "outputId": "a40f99da-7d01-44c5-fb65-94061f3c929a"
   },
   "outputs": [
    {
     "name": "stdout",
     "output_type": "stream",
     "text": [
      "[nltk_data] Downloading package stopwords to /root/nltk_data...\n",
      "[nltk_data]   Package stopwords is already up-to-date!\n"
     ]
    },
    {
     "data": {
      "text/plain": [
       "True"
      ]
     },
     "execution_count": 5,
     "metadata": {
      "tags": []
     },
     "output_type": "execute_result"
    }
   ],
   "source": [
    "nltk.download('stopwords')"
   ]
  },
  {
   "cell_type": "code",
   "execution_count": 2,
   "metadata": {
    "id": "9i-UmNf7g2kv"
   },
   "outputs": [],
   "source": [
    "embeddings_index = dict()\n",
    "f = open('/Users/Abhiraam/Downloads/glove.6B.50d.txt')\n",
    "for line in f:\n",
    "    values = line.split()\n",
    "    word = values[0]\n",
    "    coefs = np.asarray(values[1:], dtype='float32')\n",
    "    embeddings_index[word] = coefs\n",
    "f.close()"
   ]
  },
  {
   "cell_type": "code",
   "execution_count": 3,
   "metadata": {
    "id": "ckHTeGNbg2pS"
   },
   "outputs": [],
   "source": [
    "train = pd.read_csv('/Users/Abhiraam/Downloads/dataset/train_file.csv')\n",
    "test = pd.read_csv('/Users/Abhiraam/Downloads/dataset/test_file.csv')"
   ]
  },
  {
   "cell_type": "code",
   "execution_count": 4,
   "metadata": {
    "colab": {
     "base_uri": "https://localhost:8080/",
     "height": 296
    },
    "id": "xKiiQQqNg2v1",
    "outputId": "f24323e6-ca27-4186-9025-6b9231e9e7bf"
   },
   "outputs": [
    {
     "data": {
      "text/html": [
       "<div>\n",
       "<style scoped>\n",
       "    .dataframe tbody tr th:only-of-type {\n",
       "        vertical-align: middle;\n",
       "    }\n",
       "\n",
       "    .dataframe tbody tr th {\n",
       "        vertical-align: top;\n",
       "    }\n",
       "\n",
       "    .dataframe thead th {\n",
       "        text-align: right;\n",
       "    }\n",
       "</style>\n",
       "<table border=\"1\" class=\"dataframe\">\n",
       "  <thead>\n",
       "    <tr style=\"text-align: right;\">\n",
       "      <th></th>\n",
       "      <th>IDLink</th>\n",
       "      <th>Title</th>\n",
       "      <th>Headline</th>\n",
       "      <th>Source</th>\n",
       "      <th>Topic</th>\n",
       "      <th>PublishDate</th>\n",
       "      <th>Facebook</th>\n",
       "      <th>GooglePlus</th>\n",
       "      <th>LinkedIn</th>\n",
       "      <th>SentimentTitle</th>\n",
       "      <th>SentimentHeadline</th>\n",
       "    </tr>\n",
       "  </thead>\n",
       "  <tbody>\n",
       "    <tr>\n",
       "      <th>0</th>\n",
       "      <td>Tr3CMgRv1N</td>\n",
       "      <td>Obama Lays Wreath at Arlington National Cemetery</td>\n",
       "      <td>Obama Lays Wreath at Arlington National Cemete...</td>\n",
       "      <td>USA TODAY</td>\n",
       "      <td>obama</td>\n",
       "      <td>2002-04-02 00:00:00</td>\n",
       "      <td>-1</td>\n",
       "      <td>-1</td>\n",
       "      <td>-1</td>\n",
       "      <td>0.000000</td>\n",
       "      <td>-0.053300</td>\n",
       "    </tr>\n",
       "    <tr>\n",
       "      <th>1</th>\n",
       "      <td>Wc81vGp8qZ</td>\n",
       "      <td>A Look at the Health of the Chinese Economy</td>\n",
       "      <td>Tim Haywood, investment director business-unit...</td>\n",
       "      <td>Bloomberg</td>\n",
       "      <td>economy</td>\n",
       "      <td>2008-09-20 00:00:00</td>\n",
       "      <td>-1</td>\n",
       "      <td>-1</td>\n",
       "      <td>-1</td>\n",
       "      <td>0.208333</td>\n",
       "      <td>-0.156386</td>\n",
       "    </tr>\n",
       "    <tr>\n",
       "      <th>2</th>\n",
       "      <td>zNGH03CrZH</td>\n",
       "      <td>Nouriel Roubini: Global Economy Not Back to 2008</td>\n",
       "      <td>Nouriel Roubini, NYU professor and chairman at...</td>\n",
       "      <td>Bloomberg</td>\n",
       "      <td>economy</td>\n",
       "      <td>2012-01-28 00:00:00</td>\n",
       "      <td>-1</td>\n",
       "      <td>-1</td>\n",
       "      <td>-1</td>\n",
       "      <td>-0.425210</td>\n",
       "      <td>0.139754</td>\n",
       "    </tr>\n",
       "    <tr>\n",
       "      <th>3</th>\n",
       "      <td>3sM1H0W8ts</td>\n",
       "      <td>Finland GDP Expands In Q4</td>\n",
       "      <td>Finland's economy expanded marginally in the t...</td>\n",
       "      <td>RTT News</td>\n",
       "      <td>economy</td>\n",
       "      <td>2015-03-01 00:06:00</td>\n",
       "      <td>-1</td>\n",
       "      <td>-1</td>\n",
       "      <td>-1</td>\n",
       "      <td>0.000000</td>\n",
       "      <td>0.026064</td>\n",
       "    </tr>\n",
       "    <tr>\n",
       "      <th>4</th>\n",
       "      <td>wUbnxgvqaZ</td>\n",
       "      <td>Tourism, govt spending buoys Thai economy in J...</td>\n",
       "      <td>Tourism and public spending continued to boost...</td>\n",
       "      <td>The Nation - Thailand&amp;#39;s English news</td>\n",
       "      <td>economy</td>\n",
       "      <td>2015-03-01 00:11:00</td>\n",
       "      <td>-1</td>\n",
       "      <td>-1</td>\n",
       "      <td>-1</td>\n",
       "      <td>0.000000</td>\n",
       "      <td>0.141084</td>\n",
       "    </tr>\n",
       "  </tbody>\n",
       "</table>\n",
       "</div>"
      ],
      "text/plain": [
       "       IDLink                                              Title  \\\n",
       "0  Tr3CMgRv1N   Obama Lays Wreath at Arlington National Cemetery   \n",
       "1  Wc81vGp8qZ        A Look at the Health of the Chinese Economy   \n",
       "2  zNGH03CrZH   Nouriel Roubini: Global Economy Not Back to 2008   \n",
       "3  3sM1H0W8ts                          Finland GDP Expands In Q4   \n",
       "4  wUbnxgvqaZ  Tourism, govt spending buoys Thai economy in J...   \n",
       "\n",
       "                                            Headline  \\\n",
       "0  Obama Lays Wreath at Arlington National Cemete...   \n",
       "1  Tim Haywood, investment director business-unit...   \n",
       "2  Nouriel Roubini, NYU professor and chairman at...   \n",
       "3  Finland's economy expanded marginally in the t...   \n",
       "4  Tourism and public spending continued to boost...   \n",
       "\n",
       "                                     Source    Topic          PublishDate  \\\n",
       "0                                 USA TODAY    obama  2002-04-02 00:00:00   \n",
       "1                                 Bloomberg  economy  2008-09-20 00:00:00   \n",
       "2                                 Bloomberg  economy  2012-01-28 00:00:00   \n",
       "3                                  RTT News  economy  2015-03-01 00:06:00   \n",
       "4  The Nation - Thailand&#39;s English news  economy  2015-03-01 00:11:00   \n",
       "\n",
       "   Facebook  GooglePlus  LinkedIn  SentimentTitle  SentimentHeadline  \n",
       "0        -1          -1        -1        0.000000          -0.053300  \n",
       "1        -1          -1        -1        0.208333          -0.156386  \n",
       "2        -1          -1        -1       -0.425210           0.139754  \n",
       "3        -1          -1        -1        0.000000           0.026064  \n",
       "4        -1          -1        -1        0.000000           0.141084  "
      ]
     },
     "execution_count": 4,
     "metadata": {},
     "output_type": "execute_result"
    }
   ],
   "source": [
    "train.head()"
   ]
  },
  {
   "cell_type": "code",
   "execution_count": 5,
   "metadata": {
    "colab": {
     "base_uri": "https://localhost:8080/",
     "height": 373
    },
    "id": "1Z5XxliIg200",
    "outputId": "89af39bb-9c93-4fbc-af7c-f0838fab3206"
   },
   "outputs": [
    {
     "data": {
      "text/html": [
       "<div>\n",
       "<style scoped>\n",
       "    .dataframe tbody tr th:only-of-type {\n",
       "        vertical-align: middle;\n",
       "    }\n",
       "\n",
       "    .dataframe tbody tr th {\n",
       "        vertical-align: top;\n",
       "    }\n",
       "\n",
       "    .dataframe thead th {\n",
       "        text-align: right;\n",
       "    }\n",
       "</style>\n",
       "<table border=\"1\" class=\"dataframe\">\n",
       "  <thead>\n",
       "    <tr style=\"text-align: right;\">\n",
       "      <th></th>\n",
       "      <th>index</th>\n",
       "      <th>0</th>\n",
       "    </tr>\n",
       "  </thead>\n",
       "  <tbody>\n",
       "    <tr>\n",
       "      <th>0</th>\n",
       "      <td>IDLink</td>\n",
       "      <td>0</td>\n",
       "    </tr>\n",
       "    <tr>\n",
       "      <th>1</th>\n",
       "      <td>Title</td>\n",
       "      <td>0</td>\n",
       "    </tr>\n",
       "    <tr>\n",
       "      <th>2</th>\n",
       "      <td>Headline</td>\n",
       "      <td>0</td>\n",
       "    </tr>\n",
       "    <tr>\n",
       "      <th>3</th>\n",
       "      <td>Source</td>\n",
       "      <td>175</td>\n",
       "    </tr>\n",
       "    <tr>\n",
       "      <th>4</th>\n",
       "      <td>Topic</td>\n",
       "      <td>0</td>\n",
       "    </tr>\n",
       "    <tr>\n",
       "      <th>5</th>\n",
       "      <td>PublishDate</td>\n",
       "      <td>0</td>\n",
       "    </tr>\n",
       "    <tr>\n",
       "      <th>6</th>\n",
       "      <td>Facebook</td>\n",
       "      <td>0</td>\n",
       "    </tr>\n",
       "    <tr>\n",
       "      <th>7</th>\n",
       "      <td>GooglePlus</td>\n",
       "      <td>0</td>\n",
       "    </tr>\n",
       "    <tr>\n",
       "      <th>8</th>\n",
       "      <td>LinkedIn</td>\n",
       "      <td>0</td>\n",
       "    </tr>\n",
       "    <tr>\n",
       "      <th>9</th>\n",
       "      <td>SentimentTitle</td>\n",
       "      <td>0</td>\n",
       "    </tr>\n",
       "    <tr>\n",
       "      <th>10</th>\n",
       "      <td>SentimentHeadline</td>\n",
       "      <td>0</td>\n",
       "    </tr>\n",
       "  </tbody>\n",
       "</table>\n",
       "</div>"
      ],
      "text/plain": [
       "                index    0\n",
       "0              IDLink    0\n",
       "1               Title    0\n",
       "2            Headline    0\n",
       "3              Source  175\n",
       "4               Topic    0\n",
       "5         PublishDate    0\n",
       "6            Facebook    0\n",
       "7          GooglePlus    0\n",
       "8            LinkedIn    0\n",
       "9      SentimentTitle    0\n",
       "10  SentimentHeadline    0"
      ]
     },
     "execution_count": 5,
     "metadata": {},
     "output_type": "execute_result"
    }
   ],
   "source": [
    "missing_val = pd.DataFrame(train.isnull().sum())\n",
    "\n",
    "missing_val = missing_val.reset_index()\n",
    "missing_val"
   ]
  },
  {
   "cell_type": "code",
   "execution_count": 6,
   "metadata": {
    "id": "ORqK4w25g24_"
   },
   "outputs": [],
   "source": [
    "train.dropna(inplace=True)"
   ]
  },
  {
   "cell_type": "code",
   "execution_count": 7,
   "metadata": {
    "colab": {
     "base_uri": "https://localhost:8080/",
     "height": 185
    },
    "id": "tMB68BDpOcnd",
    "outputId": "d0d38c4b-27df-4ef2-fca4-a398fbe9a753"
   },
   "outputs": [
    {
     "data": {
      "text/plain": [
       "IDLink           0\n",
       "Title            0\n",
       "Headline         0\n",
       "Source         101\n",
       "Topic            0\n",
       "PublishDate      0\n",
       "Facebook         0\n",
       "GooglePlus       0\n",
       "LinkedIn         0\n",
       "dtype: int64"
      ]
     },
     "execution_count": 7,
     "metadata": {},
     "output_type": "execute_result"
    }
   ],
   "source": [
    "test.isnull().sum()"
   ]
  },
  {
   "cell_type": "code",
   "execution_count": 8,
   "metadata": {
    "colab": {
     "base_uri": "https://localhost:8080/",
     "height": 303
    },
    "id": "3mmEfgKXPGOJ",
    "outputId": "ddf881d4-bfaa-4393-de5f-fd31cd20577b"
   },
   "outputs": [],
   "source": [
    "\n",
    "test['Source'].fillna( method ='ffill', inplace = True)"
   ]
  },
  {
   "cell_type": "code",
   "execution_count": 9,
   "metadata": {
    "colab": {
     "base_uri": "https://localhost:8080/",
     "height": 284
    },
    "id": "AL92_ajxPBSg",
    "outputId": "b84ec5d4-906b-4760-f237-87364f6ec8d2"
   },
   "outputs": [
    {
     "data": {
      "text/html": [
       "<div>\n",
       "<style scoped>\n",
       "    .dataframe tbody tr th:only-of-type {\n",
       "        vertical-align: middle;\n",
       "    }\n",
       "\n",
       "    .dataframe tbody tr th {\n",
       "        vertical-align: top;\n",
       "    }\n",
       "\n",
       "    .dataframe thead th {\n",
       "        text-align: right;\n",
       "    }\n",
       "</style>\n",
       "<table border=\"1\" class=\"dataframe\">\n",
       "  <thead>\n",
       "    <tr style=\"text-align: right;\">\n",
       "      <th></th>\n",
       "      <th>Facebook</th>\n",
       "      <th>GooglePlus</th>\n",
       "      <th>LinkedIn</th>\n",
       "    </tr>\n",
       "  </thead>\n",
       "  <tbody>\n",
       "    <tr>\n",
       "      <th>count</th>\n",
       "      <td>37288.000000</td>\n",
       "      <td>37288.000000</td>\n",
       "      <td>37288.000000</td>\n",
       "    </tr>\n",
       "    <tr>\n",
       "      <th>mean</th>\n",
       "      <td>84.832654</td>\n",
       "      <td>2.895516</td>\n",
       "      <td>19.928181</td>\n",
       "    </tr>\n",
       "    <tr>\n",
       "      <th>std</th>\n",
       "      <td>420.063477</td>\n",
       "      <td>13.538942</td>\n",
       "      <td>225.443395</td>\n",
       "    </tr>\n",
       "    <tr>\n",
       "      <th>min</th>\n",
       "      <td>-1.000000</td>\n",
       "      <td>-1.000000</td>\n",
       "      <td>-1.000000</td>\n",
       "    </tr>\n",
       "    <tr>\n",
       "      <th>25%</th>\n",
       "      <td>0.000000</td>\n",
       "      <td>0.000000</td>\n",
       "      <td>0.000000</td>\n",
       "    </tr>\n",
       "    <tr>\n",
       "      <th>50%</th>\n",
       "      <td>4.000000</td>\n",
       "      <td>0.000000</td>\n",
       "      <td>0.000000</td>\n",
       "    </tr>\n",
       "    <tr>\n",
       "      <th>75%</th>\n",
       "      <td>28.000000</td>\n",
       "      <td>2.000000</td>\n",
       "      <td>4.000000</td>\n",
       "    </tr>\n",
       "    <tr>\n",
       "      <th>max</th>\n",
       "      <td>16598.000000</td>\n",
       "      <td>1016.000000</td>\n",
       "      <td>20341.000000</td>\n",
       "    </tr>\n",
       "  </tbody>\n",
       "</table>\n",
       "</div>"
      ],
      "text/plain": [
       "           Facebook    GooglePlus      LinkedIn\n",
       "count  37288.000000  37288.000000  37288.000000\n",
       "mean      84.832654      2.895516     19.928181\n",
       "std      420.063477     13.538942    225.443395\n",
       "min       -1.000000     -1.000000     -1.000000\n",
       "25%        0.000000      0.000000      0.000000\n",
       "50%        4.000000      0.000000      0.000000\n",
       "75%       28.000000      2.000000      4.000000\n",
       "max    16598.000000   1016.000000  20341.000000"
      ]
     },
     "execution_count": 9,
     "metadata": {},
     "output_type": "execute_result"
    }
   ],
   "source": [
    "test.describe()"
   ]
  },
  {
   "cell_type": "code",
   "execution_count": 10,
   "metadata": {
    "id": "IsdROfSeujSr"
   },
   "outputs": [],
   "source": [
    "X_train_title = train.loc[:,'Title'].values\n",
    "y_train_title = train.loc[:,['SentimentTitle']].values\n",
    "\n",
    "X_train_headline = train.loc[:,'Headline'].values\n",
    "y_train_headline = train.loc[:,['SentimentHeadline']].values"
   ]
  },
  {
   "cell_type": "code",
   "execution_count": 11,
   "metadata": {
    "id": "MaKdcaDXEj8F"
   },
   "outputs": [],
   "source": [
    "X_test_title = test.loc[:,'Title'].values\n",
    "X_test_headline = test.loc[:,'Headline'].values"
   ]
  },
  {
   "cell_type": "code",
   "execution_count": 12,
   "metadata": {
    "id": "IoFqfxXska_V"
   },
   "outputs": [],
   "source": [
    "title_df=pd.DataFrame()\n",
    "title_df['X_train_title']=X_train_title\n",
    "title_df['y_train_title']=y_train_title\n",
    "\n",
    "headline_df=pd.DataFrame()\n",
    "headline_df['X_train_headline']=X_train_headline\n",
    "headline_df['y_train_headline']=y_train_headline\n",
    "\n",
    "test_df=pd.DataFrame()\n",
    "test_df['X_test_title']=X_test_title\n",
    "test_df['X_test_headline']=X_test_headline"
   ]
  },
  {
   "cell_type": "code",
   "execution_count": 13,
   "metadata": {
    "id": "9JBhpcHmg2-6"
   },
   "outputs": [],
   "source": [
    "def preprocess_text(texts):\n",
    "    texts = texts.lower() \n",
    "    texts = re.sub(r'[^\\x00-\\x7F]+',' ', texts) \n",
    "    words = texts.split()\n",
    "    words = filter(lambda x: x[0]!= '@' , texts.split()) \n",
    "    words = [word for word in words if word not in set(stopwords.words('english'))] \n",
    "    texts = \" \".join(words)\n",
    "    return texts"
   ]
  },
  {
   "cell_type": "code",
   "execution_count": 14,
   "metadata": {
    "colab": {
     "base_uri": "https://localhost:8080/",
     "height": 195
    },
    "id": "RmUCM9Jkg3DZ",
    "outputId": "8356d87b-3815-4262-da6f-89be3a55c3ad"
   },
   "outputs": [
    {
     "data": {
      "text/html": [
       "<div>\n",
       "<style scoped>\n",
       "    .dataframe tbody tr th:only-of-type {\n",
       "        vertical-align: middle;\n",
       "    }\n",
       "\n",
       "    .dataframe tbody tr th {\n",
       "        vertical-align: top;\n",
       "    }\n",
       "\n",
       "    .dataframe thead th {\n",
       "        text-align: right;\n",
       "    }\n",
       "</style>\n",
       "<table border=\"1\" class=\"dataframe\">\n",
       "  <thead>\n",
       "    <tr style=\"text-align: right;\">\n",
       "      <th></th>\n",
       "      <th>X_train_title</th>\n",
       "      <th>y_train_title</th>\n",
       "    </tr>\n",
       "  </thead>\n",
       "  <tbody>\n",
       "    <tr>\n",
       "      <th>0</th>\n",
       "      <td>obama lays wreath arlington national cemetery</td>\n",
       "      <td>0.000000</td>\n",
       "    </tr>\n",
       "    <tr>\n",
       "      <th>1</th>\n",
       "      <td>look health chinese economy</td>\n",
       "      <td>0.208333</td>\n",
       "    </tr>\n",
       "    <tr>\n",
       "      <th>2</th>\n",
       "      <td>nouriel roubini: global economy back 2008</td>\n",
       "      <td>-0.425210</td>\n",
       "    </tr>\n",
       "    <tr>\n",
       "      <th>3</th>\n",
       "      <td>finland gdp expands q4</td>\n",
       "      <td>0.000000</td>\n",
       "    </tr>\n",
       "    <tr>\n",
       "      <th>4</th>\n",
       "      <td>tourism, govt spending buoys thai economy january</td>\n",
       "      <td>0.000000</td>\n",
       "    </tr>\n",
       "  </tbody>\n",
       "</table>\n",
       "</div>"
      ],
      "text/plain": [
       "                                       X_train_title  y_train_title\n",
       "0      obama lays wreath arlington national cemetery       0.000000\n",
       "1                        look health chinese economy       0.208333\n",
       "2          nouriel roubini: global economy back 2008      -0.425210\n",
       "3                             finland gdp expands q4       0.000000\n",
       "4  tourism, govt spending buoys thai economy january       0.000000"
      ]
     },
     "metadata": {},
     "output_type": "display_data"
    }
   ],
   "source": [
    "title_df['X_train_title'] = title_df.X_train_title.apply(preprocess_text)\n",
    "display(title_df.head())"
   ]
  },
  {
   "cell_type": "code",
   "execution_count": 16,
   "metadata": {
    "colab": {
     "base_uri": "https://localhost:8080/",
     "height": 195
    },
    "id": "ykn9lB8mg3If",
    "outputId": "cba81463-8493-4389-aa2b-68373cf8b7c8"
   },
   "outputs": [
    {
     "data": {
      "text/html": [
       "<div>\n",
       "<style scoped>\n",
       "    .dataframe tbody tr th:only-of-type {\n",
       "        vertical-align: middle;\n",
       "    }\n",
       "\n",
       "    .dataframe tbody tr th {\n",
       "        vertical-align: top;\n",
       "    }\n",
       "\n",
       "    .dataframe thead th {\n",
       "        text-align: right;\n",
       "    }\n",
       "</style>\n",
       "<table border=\"1\" class=\"dataframe\">\n",
       "  <thead>\n",
       "    <tr style=\"text-align: right;\">\n",
       "      <th></th>\n",
       "      <th>X_train_headline</th>\n",
       "      <th>y_train_headline</th>\n",
       "    </tr>\n",
       "  </thead>\n",
       "  <tbody>\n",
       "    <tr>\n",
       "      <th>0</th>\n",
       "      <td>obama lays wreath arlington national cemetery....</td>\n",
       "      <td>-0.053300</td>\n",
       "    </tr>\n",
       "    <tr>\n",
       "      <th>1</th>\n",
       "      <td>tim haywood, investment director business-unit...</td>\n",
       "      <td>-0.156386</td>\n",
       "    </tr>\n",
       "    <tr>\n",
       "      <th>2</th>\n",
       "      <td>nouriel roubini, nyu professor chairman roubin...</td>\n",
       "      <td>0.139754</td>\n",
       "    </tr>\n",
       "    <tr>\n",
       "      <th>3</th>\n",
       "      <td>finland's economy expanded marginally three mo...</td>\n",
       "      <td>0.026064</td>\n",
       "    </tr>\n",
       "    <tr>\n",
       "      <th>4</th>\n",
       "      <td>tourism public spending continued boost econom...</td>\n",
       "      <td>0.141084</td>\n",
       "    </tr>\n",
       "  </tbody>\n",
       "</table>\n",
       "</div>"
      ],
      "text/plain": [
       "                                    X_train_headline  y_train_headline\n",
       "0  obama lays wreath arlington national cemetery....         -0.053300\n",
       "1  tim haywood, investment director business-unit...         -0.156386\n",
       "2  nouriel roubini, nyu professor chairman roubin...          0.139754\n",
       "3  finland's economy expanded marginally three mo...          0.026064\n",
       "4  tourism public spending continued boost econom...          0.141084"
      ]
     },
     "metadata": {},
     "output_type": "display_data"
    }
   ],
   "source": [
    "headline_df['X_train_headline'] = headline_df.X_train_headline.apply(preprocess_text)\n",
    "display(headline_df.head())"
   ]
  },
  {
   "cell_type": "code",
   "execution_count": null,
   "metadata": {
    "colab": {
     "base_uri": "https://localhost:8080/",
     "height": 195
    },
    "id": "qNFmIG-bg3OG",
    "outputId": "4ba31216-2093-4ffa-951a-cd93082ceb2d"
   },
   "outputs": [
    {
     "data": {
      "text/html": [
       "<div>\n",
       "<style scoped>\n",
       "    .dataframe tbody tr th:only-of-type {\n",
       "        vertical-align: middle;\n",
       "    }\n",
       "\n",
       "    .dataframe tbody tr th {\n",
       "        vertical-align: top;\n",
       "    }\n",
       "\n",
       "    .dataframe thead th {\n",
       "        text-align: right;\n",
       "    }\n",
       "</style>\n",
       "<table border=\"1\" class=\"dataframe\">\n",
       "  <thead>\n",
       "    <tr style=\"text-align: right;\">\n",
       "      <th></th>\n",
       "      <th>X_test_title</th>\n",
       "      <th>X_test_headline</th>\n",
       "    </tr>\n",
       "  </thead>\n",
       "  <tbody>\n",
       "    <tr>\n",
       "      <th>0</th>\n",
       "      <td>sliding economy: fg fights back n3trn tsa funds</td>\n",
       "      <td>2016 budget passed national assembly n3trillio...</td>\n",
       "    </tr>\n",
       "    <tr>\n",
       "      <th>1</th>\n",
       "      <td>microsoft shows hololens bring distant family ...</td>\n",
       "      <td>recent microsoft research video shows $3000 au...</td>\n",
       "    </tr>\n",
       "    <tr>\n",
       "      <th>2</th>\n",
       "      <td>microsoft twitter robot praises hitler, trump ...</td>\n",
       "      <td>* microsoft teamed bing create taytweets, acco...</td>\n",
       "    </tr>\n",
       "    <tr>\n",
       "      <th>3</th>\n",
       "      <td>flood central bank moves can't get world econo...</td>\n",
       "      <td>central bankers managed steer world economy cl...</td>\n",
       "    </tr>\n",
       "    <tr>\n",
       "      <th>4</th>\n",
       "      <td>usd/jpy: bears lining mixed u.s. economy outlook</td>\n",
       "      <td>however, streak seven-day gains might end mark...</td>\n",
       "    </tr>\n",
       "  </tbody>\n",
       "</table>\n",
       "</div>"
      ],
      "text/plain": [
       "                                        X_test_title                                    X_test_headline\n",
       "0    sliding economy: fg fights back n3trn tsa funds  2016 budget passed national assembly n3trillio...\n",
       "1  microsoft shows hololens bring distant family ...  recent microsoft research video shows $3000 au...\n",
       "2  microsoft twitter robot praises hitler, trump ...  * microsoft teamed bing create taytweets, acco...\n",
       "3  flood central bank moves can't get world econo...  central bankers managed steer world economy cl...\n",
       "4   usd/jpy: bears lining mixed u.s. economy outlook  however, streak seven-day gains might end mark..."
      ]
     },
     "metadata": {
      "tags": []
     },
     "output_type": "display_data"
    }
   ],
   "source": [
    "test_df['X_test_title'] = test_df.X_test_title.apply(preprocess_text)\n",
    "test_df['X_test_headline'] = test_df.X_test_headline.apply(preprocess_text)\n",
    "display(test_df.head())"
   ]
  },
  {
   "cell_type": "code",
   "execution_count": null,
   "metadata": {
    "id": "twl2J8mig3UB"
   },
   "outputs": [],
   "source": [
    "max_len_title = title_df.X_train_title.apply(lambda x: len(x.split())).max()\n",
    "\n",
    "tok_title = Tokenizer()\n",
    "tok_title.fit_on_texts(title_df.X_train_title)\n",
    "vocab_size_title = len(tok_title.word_index) + 1\n",
    "encoded_title = tok_title.texts_to_sequences(title_df.X_train_title)\n",
    "padded_title = pad_sequences(encoded_title, maxlen=max_len_title, padding='post')\n",
    "\n",
    "vocab_size_title = len(tok_title.word_index) + 1"
   ]
  },
  {
   "cell_type": "code",
   "execution_count": null,
   "metadata": {
    "id": "3wvyGUHCrGme"
   },
   "outputs": [],
   "source": [
    "title_embedding_matrix = np.zeros((vocab_size_title, 50))\n",
    "for word, i in tok_title.word_index.items():\n",
    "    t_embedding_vector = embeddings_index.get(word)\n",
    "    if t_embedding_vector is not None:\n",
    "        title_embedding_matrix[i] = t_embedding_vector"
   ]
  },
  {
   "cell_type": "code",
   "execution_count": null,
   "metadata": {
    "id": "gTYtIhu0g3Yo"
   },
   "outputs": [],
   "source": [
    "max_len_headline = headline_df.X_train_headline.apply(lambda x: len(x.split())).max()\n",
    "\n",
    "tok_headline = Tokenizer()\n",
    "tok_headline.fit_on_texts(headline_df.X_train_headline)\n",
    "vocab_size_headline = len(tok_headline.word_index) + 1\n",
    "encoded_headline = tok_headline.texts_to_sequences(headline_df.X_train_headline)\n",
    "padded_headline = pad_sequences(encoded_headline, maxlen=max_len_headline, padding='post')\n",
    "\n",
    "vocab_size_headline = len(tok_headline.word_index) + 1"
   ]
  },
  {
   "cell_type": "code",
   "execution_count": null,
   "metadata": {
    "id": "6JwhxtvqrHhS"
   },
   "outputs": [],
   "source": [
    "headline_embedding_matrix = np.zeros((vocab_size_headline, 50))\n",
    "for word, i in tok_headline.word_index.items():\n",
    "    h_embedding_vector = embeddings_index.get(word)\n",
    "    if h_embedding_vector is not None:\n",
    "        headline_embedding_matrix[i] = h_embedding_vector"
   ]
  },
  {
   "cell_type": "code",
   "execution_count": null,
   "metadata": {
    "id": "S7m9Ac5GqRh_"
   },
   "outputs": [],
   "source": [
    "test_max_len_title = test_df.X_test_title.apply(lambda x: len(x.split())).max()\n",
    "\n",
    "test_tok_title = Tokenizer()\n",
    "test_tok_title.fit_on_texts(test_df.X_test_title)\n",
    "test_vocab_size_title = len(test_tok_title.word_index) + 1\n",
    "test_encoded_title = test_tok_title.texts_to_sequences(test_df.X_test_title)\n",
    "test_padded_title = pad_sequences(test_encoded_title, maxlen=test_max_len_title, padding='post')\n",
    "\n",
    "test_vocab_size_title = len(test_tok_title.word_index) + 1"
   ]
  },
  {
   "cell_type": "code",
   "execution_count": null,
   "metadata": {
    "id": "EA1Hg-5-qRiD"
   },
   "outputs": [],
   "source": [
    "test_max_len_headline = test_df.X_test_headline.apply(lambda x: len(x.split())).max()\n",
    "\n",
    "test_tok_headline = Tokenizer()\n",
    "test_tok_headline.fit_on_texts(test_df.X_test_headline)\n",
    "test_vocab_size_headline = len(test_tok_headline.word_index) + 1\n",
    "test_encoded_headline = test_tok_headline.texts_to_sequences(test_df.X_test_headline)\n",
    "test_padded_headline = pad_sequences(test_encoded_headline, maxlen=test_max_len_headline, padding='post')\n",
    "\n",
    "test_vocab_size_headline = len(test_tok_headline.word_index) + 1"
   ]
  },
  {
   "cell_type": "code",
   "execution_count": null,
   "metadata": {
    "id": "Zr6fulsEg3iq"
   },
   "outputs": [],
   "source": [
    "x_train_title, x_valid_title, Y_train_title, y_valid_title = train_test_split(padded_title, y_train_title, shuffle = True, test_size = 0.1)\n",
    "x_train_headline, x_valid_headline, Y_train_headline, y_valid_headline = train_test_split(padded_headline, y_train_headline, shuffle = True, test_size = 0.1)"
   ]
  },
  {
   "cell_type": "code",
   "execution_count": null,
   "metadata": {
    "id": "fDk1mwx10rZq"
   },
   "outputs": [],
   "source": [
    "import math\n",
    "from math import exp\n",
    "from keras import backend as K"
   ]
  },
  {
   "cell_type": "code",
   "execution_count": null,
   "metadata": {
    "id": "Ka5CW9Geg3uS"
   },
   "outputs": [],
   "source": [
    "def mod_tanh(x):\n",
    "    return K.tanh(0.6*x)"
   ]
  },
  {
   "cell_type": "markdown",
   "metadata": {
    "id": "DwsB-3EA1dZs"
   },
   "source": [
    "### Title model"
   ]
  },
  {
   "cell_type": "code",
   "execution_count": null,
   "metadata": {
    "id": "23st4YDag33M"
   },
   "outputs": [],
   "source": [
    "title_model = Sequential()\n",
    "title_model.add(Embedding(vocab_size_title, 50, input_length=max_len_title, weights=[title_embedding_matrix], trainable=True))\n",
    "title_model.add(Bidirectional(LSTM(20, return_sequences=True)))\n",
    "title_model.add(Dropout(0.3))\n",
    "title_model.add(BatchNormalization())\n",
    "title_model.add(Bidirectional(LSTM(20, return_sequences=True)))\n",
    "title_model.add(Dropout(0.3))\n",
    "title_model.add(BatchNormalization())\n",
    "title_model.add(Bidirectional(LSTM(20)))\n",
    "title_model.add(Dropout(0.3))\n",
    "title_model.add(BatchNormalization())\n",
    "title_model.add(Dense(64, activation='relu'))\n",
    "title_model.add(Dense(64, activation='relu'))\n",
    "title_model.add(Dense(1, activation=mod_tanh))\n",
    "title_model.compile(loss='mse', optimizer='adam', metrics=['mse', 'mae'])"
   ]
  },
  {
   "cell_type": "markdown",
   "metadata": {
    "id": "vJXzc4j22ETl"
   },
   "source": [
    "### Headline model"
   ]
  },
  {
   "cell_type": "code",
   "execution_count": null,
   "metadata": {
    "id": "QPWIxGkmg38W"
   },
   "outputs": [],
   "source": [
    "headline_model = Sequential()\n",
    "headline_model.add(Embedding(vocab_size_headline, 50, input_length=max_len_headline, weights=[headline_embedding_matrix], trainable=True))\n",
    "headline_model.add(Bidirectional(LSTM(20, return_sequences=True)))\n",
    "headline_model.add(Dropout(0.3))\n",
    "headline_model.add(BatchNormalization())\n",
    "headline_model.add(Bidirectional(LSTM(20, return_sequences=True)))\n",
    "headline_model.add(Dropout(0.3))\n",
    "headline_model.add(BatchNormalization())\n",
    "headline_model.add(Bidirectional(LSTM(20)))\n",
    "headline_model.add(Dropout(0.3))\n",
    "headline_model.add(BatchNormalization())\n",
    "headline_model.add(Dense(64, activation='relu'))\n",
    "headline_model.add(Dense(64, activation='relu'))\n",
    "headline_model.add(Dense(1, activation=mod_tanh))\n",
    "headline_model.compile(loss='mse', optimizer='adam', metrics=['mse', 'mae'])"
   ]
  },
  {
   "cell_type": "code",
   "execution_count": null,
   "metadata": {
    "id": "2CJtaiNpUL_E"
   },
   "outputs": [],
   "source": [
    "import tensorflow"
   ]
  },
  {
   "cell_type": "code",
   "execution_count": null,
   "metadata": {
    "colab": {
     "base_uri": "https://localhost:8080/",
     "height": 353
    },
    "id": "nwwOvwLrg4Ay",
    "outputId": "111d9555-d06e-4011-80a4-ea1a04f0a7cd"
   },
   "outputs": [
    {
     "name": "stdout",
     "output_type": "stream",
     "text": [
      "Epoch 1/10\n",
      "1569/1569 [==============================] - 33s 21ms/step - loss: 0.0204 - mse: 0.0204 - mae: 0.1060\n",
      "Epoch 2/10\n",
      "1569/1569 [==============================] - 33s 21ms/step - loss: 0.0149 - mse: 0.0149 - mae: 0.0899\n",
      "Epoch 3/10\n",
      "1569/1569 [==============================] - 32s 21ms/step - loss: 0.0098 - mse: 0.0098 - mae: 0.0704\n",
      "Epoch 4/10\n",
      "1569/1569 [==============================] - 32s 21ms/step - loss: 0.0075 - mse: 0.0075 - mae: 0.0605\n",
      "Epoch 5/10\n",
      "1569/1569 [==============================] - 32s 21ms/step - loss: 0.0064 - mse: 0.0064 - mae: 0.0554\n",
      "Epoch 6/10\n",
      "1569/1569 [==============================] - 32s 21ms/step - loss: 0.0057 - mse: 0.0057 - mae: 0.0520\n",
      "Epoch 7/10\n",
      "1569/1569 [==============================] - 32s 21ms/step - loss: 0.0053 - mse: 0.0053 - mae: 0.0495\n",
      "Epoch 8/10\n",
      "1569/1569 [==============================] - 32s 21ms/step - loss: 0.0048 - mse: 0.0048 - mae: 0.0473\n",
      "Epoch 9/10\n",
      "1569/1569 [==============================] - 32s 21ms/step - loss: 0.0044 - mse: 0.0044 - mae: 0.0448\n",
      "Epoch 10/10\n",
      "1569/1569 [==============================] - 32s 21ms/step - loss: 0.0041 - mse: 0.0041 - mae: 0.0429\n"
     ]
    }
   ],
   "source": [
    "with tensorflow.device('/device:GPU:0'):\n",
    "    title_model.fit(x_train_title, Y_train_title, epochs = 10)"
   ]
  },
  {
   "cell_type": "code",
   "execution_count": null,
   "metadata": {
    "colab": {
     "base_uri": "https://localhost:8080/",
     "height": 353
    },
    "id": "i_y1fdW3g4FT",
    "outputId": "9a85ef73-e15e-4742-abc2-d6df1a721bc3"
   },
   "outputs": [
    {
     "name": "stdout",
     "output_type": "stream",
     "text": [
      "Epoch 1/10\n",
      "1569/1569 [==============================] - 47s 30ms/step - loss: 0.0229 - mse: 0.0229 - mae: 0.1168\n",
      "Epoch 2/10\n",
      "1569/1569 [==============================] - 46s 30ms/step - loss: 0.0187 - mse: 0.0187 - mae: 0.1055\n",
      "Epoch 3/10\n",
      "1569/1569 [==============================] - 46s 30ms/step - loss: 0.0128 - mse: 0.0128 - mae: 0.0864\n",
      "Epoch 4/10\n",
      "1569/1569 [==============================] - 46s 30ms/step - loss: 0.0090 - mse: 0.0090 - mae: 0.0715\n",
      "Epoch 5/10\n",
      "1569/1569 [==============================] - 46s 30ms/step - loss: 0.0074 - mse: 0.0074 - mae: 0.0642\n",
      "Epoch 6/10\n",
      "1569/1569 [==============================] - 46s 30ms/step - loss: 0.0064 - mse: 0.0064 - mae: 0.0593\n",
      "Epoch 7/10\n",
      "1569/1569 [==============================] - 47s 30ms/step - loss: 0.0056 - mse: 0.0056 - mae: 0.0554\n",
      "Epoch 8/10\n",
      "1569/1569 [==============================] - 46s 29ms/step - loss: 0.0049 - mse: 0.0049 - mae: 0.0517\n",
      "Epoch 9/10\n",
      "1569/1569 [==============================] - 46s 29ms/step - loss: 0.0045 - mse: 0.0045 - mae: 0.0490\n",
      "Epoch 10/10\n",
      "1569/1569 [==============================] - 46s 29ms/step - loss: 0.0040 - mse: 0.0040 - mae: 0.0465\n"
     ]
    }
   ],
   "source": [
    "with tensorflow.device('/device:GPU:0'):\n",
    "    headline_model.fit(x_train_headline, Y_train_headline, epochs = 10)"
   ]
  },
  {
   "cell_type": "code",
   "execution_count": null,
   "metadata": {
    "id": "rKsdd6Jog4Re"
   },
   "outputs": [],
   "source": [
    "title_valid_pred = title_model.predict(x_valid_title)"
   ]
  },
  {
   "cell_type": "code",
   "execution_count": null,
   "metadata": {
    "id": "iRCijWC7g4aG"
   },
   "outputs": [],
   "source": [
    "headline_valid_pred = headline_model.predict(x_valid_headline)"
   ]
  },
  {
   "cell_type": "code",
   "execution_count": null,
   "metadata": {
    "id": "dctTSTWxg4fQ"
   },
   "outputs": [],
   "source": [
    "from sklearn.metrics import mean_squared_error, mean_absolute_error, r2_score"
   ]
  },
  {
   "cell_type": "code",
   "execution_count": null,
   "metadata": {
    "id": "bKEHO_ZbBRkg"
   },
   "outputs": [],
   "source": [
    "mae_title=mean_absolute_error(y_valid_title,title_valid_pred)"
   ]
  },
  {
   "cell_type": "code",
   "execution_count": null,
   "metadata": {
    "id": "Vyd-11iFBRsl"
   },
   "outputs": [],
   "source": [
    "mae_headline=mean_absolute_error(y_valid_headline,headline_valid_pred)"
   ]
  },
  {
   "cell_type": "code",
   "execution_count": null,
   "metadata": {
    "id": "MSn__JgXg4jf"
   },
   "outputs": [],
   "source": [
    "score=1-((0.4*mae_title)+(0.6*mae_headline))"
   ]
  },
  {
   "cell_type": "code",
   "execution_count": null,
   "metadata": {
    "colab": {
     "base_uri": "https://localhost:8080/",
     "height": 34
    },
    "id": "RbvcZ_rKg4o6",
    "outputId": "98d66a24-eeec-4552-d67c-e23c37329443"
   },
   "outputs": [
    {
     "data": {
      "text/plain": [
       "0.9320236916220008"
      ]
     },
     "execution_count": 42,
     "metadata": {
      "tags": []
     },
     "output_type": "execute_result"
    }
   ],
   "source": [
    "score"
   ]
  },
  {
   "cell_type": "code",
   "execution_count": null,
   "metadata": {
    "id": "b-7XwOfRYF0_"
   },
   "outputs": [],
   "source": [
    "pred_title=title_model.predict(test_padded_title)"
   ]
  },
  {
   "cell_type": "code",
   "execution_count": null,
   "metadata": {
    "colab": {
     "base_uri": "https://localhost:8080/",
     "height": 54
    },
    "id": "ZedfKjY1YGFL",
    "outputId": "1c017d5d-641b-44cc-b8aa-98aa675bfddf"
   },
   "outputs": [
    {
     "name": "stdout",
     "output_type": "stream",
     "text": [
      "WARNING:tensorflow:Model was constructed with shape (None, 60) for input Tensor(\"embedding_3_input:0\", shape=(None, 60), dtype=float32), but it was called on an input with incompatible shape (None, 53).\n"
     ]
    }
   ],
   "source": [
    "pred_headline=headline_model.predict(test_padded_headline)"
   ]
  },
  {
   "cell_type": "code",
   "execution_count": null,
   "metadata": {
    "id": "aUdcFbpFNawJ"
   },
   "outputs": [],
   "source": [
    "submission=pd.DataFrame()"
   ]
  },
  {
   "cell_type": "code",
   "execution_count": null,
   "metadata": {
    "id": "uP0eIlbyNa_t"
   },
   "outputs": [],
   "source": [
    "submission['IDLink']=test['IDLink'].to_list()\n",
    "submission['SentimentTitle']=pred_title\n",
    "submission['SentimentHeadline']=pred_headline"
   ]
  },
  {
   "cell_type": "code",
   "execution_count": null,
   "metadata": {
    "colab": {
     "base_uri": "https://localhost:8080/",
     "height": 195
    },
    "id": "ZQh7VU9UNarD",
    "outputId": "37480370-5c9c-4d45-abdc-6f118d766d0d"
   },
   "outputs": [
    {
     "data": {
      "text/html": [
       "<div>\n",
       "<style scoped>\n",
       "    .dataframe tbody tr th:only-of-type {\n",
       "        vertical-align: middle;\n",
       "    }\n",
       "\n",
       "    .dataframe tbody tr th {\n",
       "        vertical-align: top;\n",
       "    }\n",
       "\n",
       "    .dataframe thead th {\n",
       "        text-align: right;\n",
       "    }\n",
       "</style>\n",
       "<table border=\"1\" class=\"dataframe\">\n",
       "  <thead>\n",
       "    <tr style=\"text-align: right;\">\n",
       "      <th></th>\n",
       "      <th>IDLink</th>\n",
       "      <th>SentimentTitle</th>\n",
       "      <th>SentimentHeadline</th>\n",
       "    </tr>\n",
       "  </thead>\n",
       "  <tbody>\n",
       "    <tr>\n",
       "      <th>0</th>\n",
       "      <td>tFrqIR6Chj</td>\n",
       "      <td>0.172802</td>\n",
       "      <td>-0.000203</td>\n",
       "    </tr>\n",
       "    <tr>\n",
       "      <th>1</th>\n",
       "      <td>DVAaGErjlF</td>\n",
       "      <td>-0.094027</td>\n",
       "      <td>0.253928</td>\n",
       "    </tr>\n",
       "    <tr>\n",
       "      <th>2</th>\n",
       "      <td>OT9UIZm5M2</td>\n",
       "      <td>-0.001465</td>\n",
       "      <td>-0.084972</td>\n",
       "    </tr>\n",
       "    <tr>\n",
       "      <th>3</th>\n",
       "      <td>lflGp3q2Fj</td>\n",
       "      <td>-0.140512</td>\n",
       "      <td>0.170248</td>\n",
       "    </tr>\n",
       "    <tr>\n",
       "      <th>4</th>\n",
       "      <td>zDYG0SoovZ</td>\n",
       "      <td>-0.007781</td>\n",
       "      <td>0.014870</td>\n",
       "    </tr>\n",
       "  </tbody>\n",
       "</table>\n",
       "</div>"
      ],
      "text/plain": [
       "       IDLink  SentimentTitle  SentimentHeadline\n",
       "0  tFrqIR6Chj        0.172802          -0.000203\n",
       "1  DVAaGErjlF       -0.094027           0.253928\n",
       "2  OT9UIZm5M2       -0.001465          -0.084972\n",
       "3  lflGp3q2Fj       -0.140512           0.170248\n",
       "4  zDYG0SoovZ       -0.007781           0.014870"
      ]
     },
     "execution_count": 47,
     "metadata": {
      "tags": []
     },
     "output_type": "execute_result"
    }
   ],
   "source": [
    "submission.head()"
   ]
  },
  {
   "cell_type": "code",
   "execution_count": null,
   "metadata": {
    "id": "79WUSHtDNaSj"
   },
   "outputs": [],
   "source": [
    "submission.to_csv('./data/submission2.csv')"
   ]
  }
 ],
 "metadata": {
  "accelerator": "GPU",
  "colab": {
   "collapsed_sections": [],
   "machine_shape": "hm",
   "name": "News sentiment Glove+BiLSTM.ipynb",
   "provenance": []
  },
  "kernelspec": {
   "display_name": "Python 3",
   "language": "python",
   "name": "python3"
  },
  "language_info": {
   "codemirror_mode": {
    "name": "ipython",
    "version": 3
   },
   "file_extension": ".py",
   "mimetype": "text/x-python",
   "name": "python",
   "nbconvert_exporter": "python",
   "pygments_lexer": "ipython3",
   "version": "3.8.5"
  }
 },
 "nbformat": 4,
 "nbformat_minor": 1
}
